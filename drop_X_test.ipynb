{
 "cells": [
  {
   "cell_type": "code",
   "execution_count": 1,
   "metadata": {},
   "outputs": [
    {
     "name": "stdout",
     "output_type": "stream",
     "text": [
      "(1344871, 319)\n",
      "     ->原始key个数: 25380\n"
     ]
    }
   ],
   "source": [
    "import pandas as pd\n",
    "\n",
    "version = 'localdata_earlystop_newaugment_mdl'\n",
    "X_y_group_train_pathname = f\"./tmp/X_y_group_train_{version}.pkl\"\n",
    "X_y_group_train = pd.read_pickle(X_y_group_train_pathname)\n",
    "print(X_y_group_train.shape)\n",
    "\n",
    "X_y_group_train['raw_key'] = X_y_group_train['dataset'].str[-5:]\n",
    "all_key_list = X_y_group_train['raw_key'].unique().tolist()\n",
    "print(f'     ->原始key个数: {len(all_key_list)}')"
   ]
  },
  {
   "cell_type": "code",
   "execution_count": 2,
   "metadata": {},
   "outputs": [
    {
     "name": "stdout",
     "output_type": "stream",
     "text": [
      "     ->测试key个数: 1880\n"
     ]
    }
   ],
   "source": [
    "X_test = pd.read_pickle('./data/X_test.pickle')\n",
    "y_test = pd.read_pickle('./data/y_test.pickle')\n",
    "X_test_key = list(X_test.keys())\n",
    "print(f'     ->测试key个数: {len(X_test_key)}')"
   ]
  },
  {
   "cell_type": "code",
   "execution_count": 3,
   "metadata": {},
   "outputs": [
    {
     "name": "stdout",
     "output_type": "stream",
     "text": [
      "     ->原始key个数: 23500\n",
      "(1244894, 319)\n"
     ]
    }
   ],
   "source": [
    "X_y_group_train = X_y_group_train[~X_y_group_train['raw_key'].isin(X_test_key)]\n",
    "all_key_list = X_y_group_train['raw_key'].unique().tolist()\n",
    "print(f'     ->原始key个数: {len(all_key_list)}')\n",
    "X_y_group_train = X_y_group_train.drop(columns=['raw_key'])\n",
    "print(X_y_group_train.shape)\n",
    "version = 'traindata_earlystop_newaugment_mdl'\n",
    "X_y_group_train.to_pickle(f'./tmp/X_y_group_train_{version}.pkl')"
   ]
  },
  {
   "cell_type": "code",
   "execution_count": null,
   "metadata": {},
   "outputs": [],
   "source": []
  }
 ],
 "metadata": {
  "kernelspec": {
   "display_name": "aida_py311",
   "language": "python",
   "name": "aida_py311"
  },
  "language_info": {
   "codemirror_mode": {
    "name": "ipython",
    "version": 3
   },
   "file_extension": ".py",
   "mimetype": "text/x-python",
   "name": "python",
   "nbconvert_exporter": "python",
   "pygments_lexer": "ipython3",
   "version": "3.11.8"
  }
 },
 "nbformat": 4,
 "nbformat_minor": 4
}
