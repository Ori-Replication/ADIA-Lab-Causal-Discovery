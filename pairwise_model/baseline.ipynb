{
 "cells": [
  {
   "cell_type": "code",
   "execution_count": 1,
   "metadata": {},
   "outputs": [],
   "source": [
    "import pickle\n",
    "import numpy as np\n",
    "import pandas as pd\n",
    "from joblib import Parallel, delayed\n",
    "from tqdm import tqdm"
   ]
  },
  {
   "cell_type": "code",
   "execution_count": 2,
   "metadata": {},
   "outputs": [
    {
     "name": "stdout",
     "output_type": "stream",
     "text": [
      "(1650594, 5)\n",
      "(1650594, 1)\n"
     ]
    }
   ],
   "source": [
    "# 从本地文件加载\n",
    "with open('../mid_data/CEPCDataset.pkl', 'rb') as f:\n",
    "    CEPCDataset = pickle.load(f)\n",
    "print(CEPCDataset.shape)\n",
    "\n",
    "with open('../mid_data/CEPCTarget.pkl', 'rb') as f:\n",
    "    CEPCTarget = pickle.load(f)\n",
    "print(CEPCTarget.shape)"
   ]
  },
  {
   "cell_type": "code",
   "execution_count": 3,
   "metadata": {},
   "outputs": [],
   "source": [
    "result = CEPCDataset[['dataset', 'A_parent', 'B_child']].copy()"
   ]
  },
  {
   "cell_type": "code",
   "execution_count": 4,
   "metadata": {},
   "outputs": [],
   "source": [
    "def correlation_feature(A, B):\n",
    "    return {'corr': np.corrcoef(A, B)[0, 1]}"
   ]
  },
  {
   "cell_type": "code",
   "execution_count": 5,
   "metadata": {},
   "outputs": [],
   "source": [
    "# 定义特征工程函数列表\n",
    "feature_functions = [\n",
    "    correlation_feature,\n",
    "    # 添加其他特征工程函数\n",
    "]"
   ]
  },
  {
   "cell_type": "code",
   "execution_count": 6,
   "metadata": {},
   "outputs": [],
   "source": [
    "def apply_feature_function(row, func):\n",
    "    \"\"\"\n",
    "    应用单个特征工程函数到一行数据。\n",
    "\n",
    "    参数:\n",
    "        row (pd.Series): CEPCDataset中的一行数据。\n",
    "        func (function): 特征工程函数。\n",
    "\n",
    "    返回:\n",
    "        dict: 特征工程函数生成的特征。\n",
    "    \"\"\"\n",
    "    try:\n",
    "        # 假设每个函数接收A和B并返回一个字典\n",
    "        feature_dict = func(row['A'], row['B'])\n",
    "        return feature_dict\n",
    "    except Exception as e:\n",
    "        print(f\"特征函数 {func.__name__} 处理失败: {e}\")\n",
    "        return {}"
   ]
  },
  {
   "cell_type": "code",
   "execution_count": 7,
   "metadata": {},
   "outputs": [
    {
     "name": "stdout",
     "output_type": "stream",
     "text": [
      "正在处理特征工程函数: correlation_feature\n"
     ]
    },
    {
     "name": "stderr",
     "output_type": "stream",
     "text": [
      "Processing correlation_feature: 100%|██████████| 1650594/1650594 [06:31<00:00, 4220.15it/s]\n"
     ]
    },
    {
     "name": "stdout",
     "output_type": "stream",
     "text": [
      "correlation_feature 特征工程完成。\n"
     ]
    }
   ],
   "source": [
    "# 逐个特征工程函数进行处理\n",
    "for func in feature_functions:\n",
    "    print(f\"正在处理特征工程函数: {func.__name__}\")\n",
    "    \n",
    "    # 使用多线程并行处理当前特征工程函数\n",
    "    feature_list = Parallel(n_jobs=-1)(\n",
    "        delayed(apply_feature_function)(row, func) \n",
    "        for index, row in tqdm(CEPCDataset.iterrows(), total=CEPCDataset.shape[0], desc=f\"Processing {func.__name__}\")\n",
    "    )\n",
    "    \n",
    "    # 将特征列表转换为 DataFrame\n",
    "    feature_df = pd.DataFrame(feature_list)\n",
    "    \n",
    "    # # 确保特征名唯一，添加函数名作为前缀\n",
    "    # feature_df = feature_df.add_prefix(f\"{func.__name__}_\")\n",
    "    \n",
    "    # 合并当前特征到结果数据框\n",
    "    result = pd.concat([result.reset_index(drop=True), feature_df.reset_index(drop=True)], axis=1)\n",
    "    \n",
    "    print(f\"{func.__name__} 特征工程完成。\")\n",
    "\n",
    "# 确保结果数据框的索引与 CEPCDataset 相同\n",
    "result.index = CEPCDataset.index"
   ]
  },
  {
   "cell_type": "code",
   "execution_count": null,
   "metadata": {},
   "outputs": [],
   "source": [
    "# 保存最终的数据框\n",
    "result.to_pickle('../mid_data/CEPCDataset_with_features.pkl')\n",
    "print('所有特征工程完成，数据已保存。')"
   ]
  }
 ],
 "metadata": {
  "kernelspec": {
   "display_name": "adia_py311",
   "language": "python",
   "name": "python3"
  },
  "language_info": {
   "codemirror_mode": {
    "name": "ipython",
    "version": 3
   },
   "file_extension": ".py",
   "mimetype": "text/x-python",
   "name": "python",
   "nbconvert_exporter": "python",
   "pygments_lexer": "ipython3",
   "version": "3.11.9"
  }
 },
 "nbformat": 4,
 "nbformat_minor": 2
}
