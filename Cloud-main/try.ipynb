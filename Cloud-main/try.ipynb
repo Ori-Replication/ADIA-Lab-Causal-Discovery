{
 "cells": [
  {
   "cell_type": "code",
   "execution_count": 2,
   "metadata": {},
   "outputs": [],
   "source": [
    "import numpy as np\n",
    "import pandas as pd\n",
    "from cloud import Cloud\n",
    "\n",
    "# generate data from X causes Y\n",
    "x = np.random.randint(0, 5, 10000) # 5 cyclic\n",
    "y = (x + np.random.randint(0, 8, 10000)) % 8 # 8 cyclic\n",
    "                                             # modulo operation is optional"
   ]
  },
  {
   "cell_type": "code",
   "execution_count": 3,
   "metadata": {},
   "outputs": [
    {
     "name": "stdout",
     "output_type": "stream",
     "text": [
      "Cloud Inference Result:: X ⇒ Y\t Δ=2.17\n"
     ]
    }
   ],
   "source": [
    "# pass the data to Cloud\n",
    "result = Cloud(\n",
    "    X=x, \n",
    "    Y=y,\n",
    "    n_candidates=4, # select a set of model candidates\n",
    "    is_print=True, # print out inferred causal direction \n",
    "    X_ndistinct_vals=5,\n",
    "    Y_ndistinct_vals=8,\n",
    ")"
   ]
  },
  {
   "cell_type": "code",
   "execution_count": 4,
   "metadata": {},
   "outputs": [
    {
     "name": "stdout",
     "output_type": "stream",
     "text": [
      "         0      Y      2      3      4      5      6      7      8      X\n",
      "0    0.311 -0.365  0.327  0.383 -0.519 -0.015 -0.713  0.183  0.515  0.951\n",
      "1    0.125  0.657 -0.097 -0.341 -0.807 -0.527 -0.027  0.711  0.591 -0.515\n",
      "2    0.499 -0.307 -0.395  0.067  0.761 -0.147 -0.501  0.015  0.267  0.109\n",
      "3   -0.337 -0.105  0.455  0.267 -0.091  0.427  0.037 -0.221 -0.455  0.157\n",
      "4   -0.139 -0.691 -0.287 -0.383 -0.899  0.415  0.899 -0.771 -0.593 -0.049\n",
      "..     ...    ...    ...    ...    ...    ...    ...    ...    ...    ...\n",
      "995 -0.965  0.853 -0.187  0.319 -0.841  0.281  0.795  0.599  0.245 -0.931\n",
      "996  0.323  0.851  0.775 -0.187  0.361 -0.681 -0.307  0.351  0.433 -0.829\n",
      "997  0.795  0.409 -0.629 -0.879  0.035 -0.761  0.301  0.355  0.941  0.363\n",
      "998  0.855 -0.721  0.193 -0.025  0.485 -0.351 -0.799 -0.007 -0.329  0.715\n",
      "999 -0.851 -0.395 -0.925  0.831 -0.275  0.981  0.607 -0.773 -0.691  0.001\n",
      "\n",
      "[1000 rows x 10 columns]\n",
      "        0  Y  2  3  4  5  6  7  8  X\n",
      "parent                              \n",
      "0       0  0  0  0  0  0  0  0  0  0\n",
      "Y       1  0  0  0  0  0  0  0  0  0\n",
      "2       0  0  0  0  0  1  0  0  0  0\n",
      "3       0  1  0  0  0  1  0  0  0  0\n",
      "4       0  1  0  0  0  1  0  0  0  0\n",
      "5       1  1  0  0  0  0  0  0  0  0\n",
      "6       0  1  0  0  0  1  0  0  0  0\n",
      "7       0  1  0  0  0  1  0  0  0  0\n",
      "8       0  0  1  1  0  0  0  1  0  1\n",
      "X       0  1  0  0  0  1  0  0  0  0\n"
     ]
    }
   ],
   "source": [
    "A = pd.read_csv('../data/A.csv', index_col=0)\n",
    "B = pd.read_csv('../data/B.csv', index_col=0)\n",
    "print(A)\n",
    "print(B)"
   ]
  },
  {
   "cell_type": "code",
   "execution_count": 5,
   "metadata": {},
   "outputs": [
    {
     "name": "stdout",
     "output_type": "stream",
     "text": [
      "Cloud Inference Result:: X ⇒ Y\t Δ=11.40\n"
     ]
    }
   ],
   "source": [
    "def discretize_sequence(x, ffactor=10):\n",
    "    \"\"\"\n",
    "    将连续序列离散化。\n",
    "\n",
    "    参数:\n",
    "    x (array-like): 输入的连续变量，范围在 [-1, 1] 之间。\n",
    "    ffactor (int): 离散化因子，用于缩放和离散化。\n",
    "\n",
    "    返回:\n",
    "    np.ndarray: 离散化后的序列（整数类型）。\n",
    "    \"\"\"\n",
    "    # 确保输入在 [-1, 1] 范围内\n",
    "    x = np.clip(x, -1, 1)\n",
    "    # 缩放并四舍五入\n",
    "    x = np.round(x * ffactor).astype(int)\n",
    "    return x\n",
    "\n",
    "X = discretize_sequence(A['8'].values, ffactor=10)\n",
    "Y = discretize_sequence(A['X'].values, ffactor=10)\n",
    "\n",
    "# pass the data to Cloud\n",
    "result = Cloud(\n",
    "    X=X, \n",
    "    Y=Y,\n",
    "    n_candidates=4, # select a set of model candidates\n",
    "    is_print=True, # print out inferred causal direction \n",
    "    X_ndistinct_vals=21,\n",
    "    Y_ndistinct_vals=21,\n",
    ")"
   ]
  },
  {
   "cell_type": "code",
   "execution_count": 6,
   "metadata": {},
   "outputs": [
    {
     "name": "stdout",
     "output_type": "stream",
     "text": [
      "[(8848.628601125034, 'to'), (8860.032023337282, 'gets'), (8887.415141101785, 'indep'), (9020.1012027713, 'confounder')]\n"
     ]
    }
   ],
   "source": [
    "print(result)"
   ]
  },
  {
   "cell_type": "code",
   "execution_count": 10,
   "metadata": {},
   "outputs": [
    {
     "data": {
      "text/plain": [
       "8860.032023337282"
      ]
     },
     "execution_count": 10,
     "metadata": {},
     "output_type": "execute_result"
    }
   ],
   "source": [
    "result[1][0]"
   ]
  },
  {
   "cell_type": "code",
   "execution_count": 1,
   "metadata": {},
   "outputs": [],
   "source": [
    "def Cloud_output(score):\n",
    "    score.sort(key=lambda x: x[0])\n",
    "    pred = score[0][1]\n",
    "    conf = abs(score[0][0] - score[1][0])\n",
    "    return pred, conf"
   ]
  },
  {
   "cell_type": "code",
   "execution_count": 7,
   "metadata": {},
   "outputs": [
    {
     "name": "stdout",
     "output_type": "stream",
     "text": [
      "to 11.403422212248188\n"
     ]
    }
   ],
   "source": [
    "pred, conf = Cloud_output(result)\n",
    "print(pred, conf)"
   ]
  }
 ],
 "metadata": {
  "kernelspec": {
   "display_name": "adia_py311",
   "language": "python",
   "name": "python3"
  },
  "language_info": {
   "codemirror_mode": {
    "name": "ipython",
    "version": 3
   },
   "file_extension": ".py",
   "mimetype": "text/x-python",
   "name": "python",
   "nbconvert_exporter": "python",
   "pygments_lexer": "ipython3",
   "version": "3.11.9"
  }
 },
 "nbformat": 4,
 "nbformat_minor": 2
}
