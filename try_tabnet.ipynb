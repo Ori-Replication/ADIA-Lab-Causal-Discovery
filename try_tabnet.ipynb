{
 "cells": [
  {
   "cell_type": "code",
   "execution_count": null,
   "metadata": {},
   "outputs": [],
   "source": [
    "import pandas as pd\n",
    "import numpy as np\n",
    "from sklearn.preprocessing import LabelEncoder\n",
    "from sklearn.model_selection import train_test_split"
   ]
  },
  {
   "cell_type": "code",
   "execution_count": null,
   "metadata": {},
   "outputs": [],
   "source": [
    "X_y_group_train = pd.read_csv('./mid_data/X_y_group_train_updated_v12.2_优化线性.csv')\n",
    "\n",
    "print(\"Adding numeric labels y\")\n",
    "le = LabelEncoder()\n",
    "X_y_group_train[\"y\"] = le.fit_transform(X_y_group_train[\"label\"])\n",
    "# reordering columns:\n",
    "X_y_group_train = X_y_group_train[[\"dataset\", \"variable\"] + X_y_group_train.columns.drop([\"dataset\", \"variable\", \"label\", \"y\"]).tolist() + [\"label\", \"y\"]]\n",
    "\n",
    "\n",
    "blacklist = [\"ttest(v,X)\", \"pvalue(ttest(v,X))<=0.05\", \"ttest(v,Y)\", \"pvalue(ttest(v,Y))<=0.05\", \"ttest(X,Y)\", \"pvalue(ttest(X,Y))<=0.05\"]\n",
    "columns_to_drop = [col for col in blacklist if col in X_y_group_train.columns]\n",
    "X_y_group_train = X_y_group_train.drop(columns=columns_to_drop)\n",
    "\n",
    "numeric_columns = X_y_group_train.select_dtypes(include=[np.number]).columns\n",
    "X_y_group_train[numeric_columns] = X_y_group_train[numeric_columns].fillna(X_y_group_train[numeric_columns].mean())\n",
    "\n",
    "display(X_y_group_train)\n",
    "\n",
    "print(\"Extracting X_train, y_train, and group\")\n",
    "X_train = X_y_group_train.drop([\"variable\", \"dataset\", \"label\", \"y\"], axis=\"columns\")\n",
    "\n",
    "y_train = X_y_group_train[\"y\"]\n",
    "group_train = X_y_group_train[\"dataset\"]"
   ]
  },
  {
   "cell_type": "code",
   "execution_count": null,
   "metadata": {},
   "outputs": [],
   "source": [
    "import re\n",
    "\n",
    "def clean_feature_names(X):\n",
    "    # 函数用于清理特征名称\n",
    "    def clean_name(name):\n",
    "        # 移除或替换特殊字符\n",
    "        name = re.sub(r'[^\\w\\s-]', '_', name)\n",
    "        # 确保名称不以数字开头\n",
    "        if name[0].isdigit():\n",
    "            name = 'f_' + name\n",
    "        return name\n",
    "\n",
    "    X.columns = [clean_name(col) for col in X.columns]\n",
    "    return X\n",
    "\n",
    "# 清理特征名称\n",
    "X_train = clean_feature_names(X_train)"
   ]
  },
  {
   "cell_type": "code",
   "execution_count": null,
   "metadata": {},
   "outputs": [],
   "source": [
    "# 分割数据集\n",
    "X_train, X_test, y_train, y_test = train_test_split(X_train, y_train, test_size=0.2, random_state=42)"
   ]
  },
  {
   "cell_type": "code",
   "execution_count": null,
   "metadata": {},
   "outputs": [],
   "source": [
    "import torch\n",
    "from sklearn.metrics import balanced_accuracy_score, classification_report\n",
    "from pytorch_tabnet.tab_model import TabNetClassifier\n",
    "\n",
    "# 定义 TabNetClassifier\n",
    "clf = TabNetClassifier(\n",
    "    n_d=64,                  # 决策层的宽度\n",
    "    n_a=64,                  # 注意力嵌入的宽度\n",
    "    n_steps=5,               # 步骤数\n",
    "    gamma=1.5,               # 特征重用系数\n",
    "    cat_idxs=[],             # 类别特征的索引（如果有）\n",
    "    cat_dims=[],             # 每个类别特征的模态数（如果有）\n",
    "    cat_emb_dim=1,           # 类别特征的嵌入维度\n",
    "    optimizer_fn=torch.optim.Adam,\n",
    "    optimizer_params=dict(lr=2e-2),\n",
    "    scheduler_fn=torch.optim.lr_scheduler.StepLR,\n",
    "    scheduler_params=dict(step_size=50, gamma=0.9),\n",
    "    mask_type='sparsemax',   # 或 'entmax'\n",
    "    verbose=1,\n",
    "    device_name='gpu'        # 使用 GPU\n",
    ")\n",
    "\n",
    "# 训练模型\n",
    "clf.fit(\n",
    "    X_train=X_train,\n",
    "    y_train=y_train,\n",
    "    eval_set=[(X_train, y_train), (X_test, y_test)],\n",
    "    eval_name=['train', 'valid'],\n",
    "    eval_metric=['accuracy', 'balanced_accuracy'],\n",
    "    max_epochs=2000,\n",
    "    patience=10,\n",
    "    batch_size=1024,\n",
    "    virtual_batch_size=128,\n",
    "    num_workers=0,\n",
    "    drop_last=False\n",
    ")\n",
    "\n",
    "# 预测\n",
    "y_train_pred = clf.predict(X_train)\n",
    "y_test_pred = clf.predict(X_test)\n",
    "\n",
    "# 计算平衡准确率\n",
    "train_score = balanced_accuracy_score(y_train, y_train_pred)\n",
    "test_score = balanced_accuracy_score(y_test, y_test_pred)\n",
    "\n",
    "print(f\"训练集平衡准确率: {train_score:.6f}\")\n",
    "print(f\"测试集平衡准确率: {test_score:.6f}\")\n",
    "\n",
    "# 输出详细的分类报告\n",
    "print(\"\\n测试集分类报告:\")\n",
    "print(classification_report(y_test, y_test_pred))"
   ]
  }
 ],
 "metadata": {
  "kernelspec": {
   "display_name": "adia_py311",
   "language": "python",
   "name": "python3"
  },
  "language_info": {
   "name": "python",
   "version": "3.11.9"
  }
 },
 "nbformat": 4,
 "nbformat_minor": 2
}
