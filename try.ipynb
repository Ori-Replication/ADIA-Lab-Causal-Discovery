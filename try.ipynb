{
 "cells": [
  {
   "cell_type": "markdown",
   "id": "6b9f4208",
   "metadata": {},
   "source": [
    "线性回归"
   ]
  },
  {
   "cell_type": "code",
   "execution_count": 1,
   "id": "initial_id",
   "metadata": {
    "ExecuteTime": {
     "end_time": "2024-09-17T15:21:24.066168Z",
     "start_time": "2024-09-17T15:21:23.232370Z"
    },
    "collapsed": true,
    "metadata": {}
   },
   "outputs": [],
   "source": [
    "import pandas as pd\n",
    "from sklearn.linear_model import LinearRegression\n",
    "import statsmodels.api as sm\n",
    "from sklearn.preprocessing import StandardScaler"
   ]
  },
  {
   "cell_type": "code",
   "execution_count": 2,
   "id": "6bef1610411c4422",
   "metadata": {
    "ExecuteTime": {
     "end_time": "2024-09-17T15:21:24.070935Z",
     "start_time": "2024-09-17T15:21:24.067199Z"
    },
    "metadata": {}
   },
   "outputs": [],
   "source": [
    "# 创建示例数据集\n",
    "data = {\n",
    "    \"0\": [2, 3, 4, 5, 6],\n",
    "    \"X\": [1, 2, 3, 4, 5],\n",
    "    \"1\": [5, 4, 3, 2, 1],\n",
    "    \"2\": [1, 2, 3, 4, 5],\n",
    "    \"Y\": [3, 4, 2, 5, 6]\n",
    "}\n",
    "\n",
    "# 将数据集转换为 DataFrame\n",
    "dataset = pd.DataFrame(data)\n",
    "\n",
    "def Squared_term(dataset, variables):\n",
    "    for var in variables:\n",
    "        dataset[f'{var}_squared_term'] = dataset[var] ** 2\n",
    "    return dataset\n",
    "\n",
    "def Interaction_term(dataset, variables):\n",
    "    for i in range(len(variables)):\n",
    "        for j in range(i + 1, len(variables)):\n",
    "            dataset[f'{variables[i]}_{variables[j]}'] = dataset[variables[i]] * dataset[variables[j]]\n",
    "    return dataset"
   ]
  },
  {
   "cell_type": "code",
   "execution_count": 3,
   "id": "b2095e53",
   "metadata": {
    "metadata": {}
   },
   "outputs": [
    {
     "name": "stdout",
     "output_type": "stream",
     "text": [
      "['X', '0', '1', '2', '0_squared_term', '1_squared_term', '2_squared_term']\n",
      "['X', '0', '1', '2', '0_squared_term', '1_squared_term', '2_squared_term', '0_1', '0_2', '1_2']\n"
     ]
    }
   ],
   "source": [
    "variables = dataset.columns.drop([\"X\", \"Y\"]).tolist()\n",
    "model1_features = [\"X\"] + variables\n",
    "d1 = Squared_term(dataset[model1_features], variables)\n",
    "d1 = Interaction_term(d1, variables)\n",
    "model1_features = [\"X\"] + variables + [f'{var}_squared_term' for var in variables]\n",
    "print(model1_features)\n",
    "model1_features = d1.columns.tolist()\n",
    "print(model1_features)"
   ]
  },
  {
   "cell_type": "code",
   "execution_count": 4,
   "id": "42e9fd9b",
   "metadata": {
    "metadata": {}
   },
   "outputs": [
    {
     "name": "stdout",
     "output_type": "stream",
     "text": [
      "{'X': 0.08959372776926722, '0': 0.08959372776926722, '1': -0.0895937277692671, '2': 0.0895937277692671, '0_squared_term': 0.13368279918203282, '1_squared_term': -0.028323816801206637, '2_squared_term': 0.1474778756831382, '0_1': -0.2930171810439319, '0_2': 0.13966211127148917, '1_2': -0.3079290260806433}\n"
     ]
    }
   ],
   "source": [
    "scaler = StandardScaler()\n",
    "d1_scaled = scaler.fit_transform(d1)\n",
    "model1 = LinearRegression().fit(d1_scaled, dataset[[\"Y\"]])\n",
    "model1_coefs = model1.coef_[0].tolist()\n",
    "model1_dict = {name: coef for name, coef in zip(model1_features, model1_coefs)}\n",
    "print(model1_dict)"
   ]
  },
  {
   "cell_type": "code",
   "execution_count": 4,
   "id": "32670e938c0a8b13",
   "metadata": {},
   "outputs": [],
   "source": [
    "# 将 X 放到第一列\n",
    "variables.remove(\"X\")\n",
    "variables = [\"X\"] + variables"
   ]
  },
  {
   "cell_type": "code",
   "execution_count": 5,
   "id": "2bf1037b81b207af",
   "metadata": {
    "ExecuteTime": {
     "end_time": "2024-09-17T15:21:29.914683Z",
     "start_time": "2024-09-17T15:21:29.908126Z"
    }
   },
   "outputs": [],
   "source": [
    "model = LinearRegression().fit(dataset[variables], dataset[[\"Y\"]])\n",
    "coefs = model.coef_[0].tolist()\n",
    "names = model.feature_names_in_.tolist()\n",
    "variables.remove(\"X\")"
   ]
  },
  {
   "cell_type": "code",
   "execution_count": 6,
   "id": "a8b8efa96e746de7",
   "metadata": {
    "ExecuteTime": {
     "end_time": "2024-09-17T15:22:03.863810Z",
     "start_time": "2024-09-17T15:22:03.852911Z"
    }
   },
   "outputs": [
    {
     "data": {
      "text/html": [
       "<div>\n",
       "<style scoped>\n",
       "    .dataframe tbody tr th:only-of-type {\n",
       "        vertical-align: middle;\n",
       "    }\n",
       "\n",
       "    .dataframe tbody tr th {\n",
       "        vertical-align: top;\n",
       "    }\n",
       "\n",
       "    .dataframe thead th {\n",
       "        text-align: right;\n",
       "    }\n",
       "</style>\n",
       "<table border=\"1\" class=\"dataframe\">\n",
       "  <thead>\n",
       "    <tr style=\"text-align: right;\">\n",
       "      <th></th>\n",
       "      <th>variable</th>\n",
       "      <th>v~Y_coefficient</th>\n",
       "    </tr>\n",
       "  </thead>\n",
       "  <tbody>\n",
       "    <tr>\n",
       "      <th>0</th>\n",
       "      <td>0</td>\n",
       "      <td>0.233333</td>\n",
       "    </tr>\n",
       "    <tr>\n",
       "      <th>1</th>\n",
       "      <td>1</td>\n",
       "      <td>-0.233333</td>\n",
       "    </tr>\n",
       "  </tbody>\n",
       "</table>\n",
       "</div>"
      ],
      "text/plain": [
       "  variable  v~Y_coefficient\n",
       "0        0         0.233333\n",
       "1        1        -0.233333"
      ]
     },
     "execution_count": 6,
     "metadata": {},
     "output_type": "execute_result"
    }
   ],
   "source": [
    "df = []\n",
    "for i, variable in enumerate(variables):\n",
    "    for j, name in enumerate(names):\n",
    "        if variable == name:\n",
    "            df.append({\n",
    "                \"variable\": variable,\n",
    "                \"v~Y_coefficient\": coefs[j],\n",
    "            })\n",
    "    \n",
    "df = pd.DataFrame(df)\n",
    "df\n",
    "# df[\"dataset\"] = dataset.name"
   ]
  },
  {
   "cell_type": "code",
   "execution_count": 7,
   "id": "458ebfb8fdde59c7",
   "metadata": {
    "ExecuteTime": {
     "end_time": "2024-09-17T15:22:19.413041Z",
     "start_time": "2024-09-17T15:22:19.409463Z"
    }
   },
   "outputs": [],
   "source": [
    "df[\"X~Y_coefficient\"] = coefs[0]\n",
    "\n",
    "# # Reorder columns:\n",
    "# df = df[[\"dataset\"] + [colname for colname in df.columns if colname != \"dataset\"]]"
   ]
  },
  {
   "cell_type": "code",
   "execution_count": 8,
   "id": "32604be431a2527c",
   "metadata": {
    "ExecuteTime": {
     "end_time": "2024-09-17T15:22:20.144906Z",
     "start_time": "2024-09-17T15:22:20.139370Z"
    }
   },
   "outputs": [
    {
     "data": {
      "text/html": [
       "<div>\n",
       "<style scoped>\n",
       "    .dataframe tbody tr th:only-of-type {\n",
       "        vertical-align: middle;\n",
       "    }\n",
       "\n",
       "    .dataframe tbody tr th {\n",
       "        vertical-align: top;\n",
       "    }\n",
       "\n",
       "    .dataframe thead th {\n",
       "        text-align: right;\n",
       "    }\n",
       "</style>\n",
       "<table border=\"1\" class=\"dataframe\">\n",
       "  <thead>\n",
       "    <tr style=\"text-align: right;\">\n",
       "      <th></th>\n",
       "      <th>variable</th>\n",
       "      <th>v~Y_coefficient</th>\n",
       "      <th>X~Y_coefficient</th>\n",
       "    </tr>\n",
       "  </thead>\n",
       "  <tbody>\n",
       "    <tr>\n",
       "      <th>0</th>\n",
       "      <td>0</td>\n",
       "      <td>0.233333</td>\n",
       "      <td>0.233333</td>\n",
       "    </tr>\n",
       "    <tr>\n",
       "      <th>1</th>\n",
       "      <td>1</td>\n",
       "      <td>-0.233333</td>\n",
       "      <td>0.233333</td>\n",
       "    </tr>\n",
       "  </tbody>\n",
       "</table>\n",
       "</div>"
      ],
      "text/plain": [
       "  variable  v~Y_coefficient  X~Y_coefficient\n",
       "0        0         0.233333         0.233333\n",
       "1        1        -0.233333         0.233333"
      ]
     },
     "execution_count": 8,
     "metadata": {},
     "output_type": "execute_result"
    }
   ],
   "source": [
    "df"
   ]
  },
  {
   "cell_type": "markdown",
   "id": "38ebe525",
   "metadata": {},
   "source": [
    "岭回归"
   ]
  },
  {
   "cell_type": "code",
   "execution_count": 1,
   "id": "8768c403",
   "metadata": {
    "metadata": {}
   },
   "outputs": [],
   "source": [
    "import numpy as np\n",
    "import pandas as pd\n",
    "from sklearn.preprocessing import StandardScaler\n",
    "from sklearn.linear_model import Ridge\n",
    "from sklearn.model_selection import GridSearchCV\n",
    "import matplotlib.pyplot as plt\n",
    "import seaborn as sns"
   ]
  },
  {
   "cell_type": "code",
   "execution_count": 2,
   "id": "4a69cb94",
   "metadata": {
    "metadata": {}
   },
   "outputs": [
    {
     "name": "stdout",
     "output_type": "stream",
     "text": [
      "loaded inline runner with module: <module '__main__'>\n"
     ]
    }
   ],
   "source": [
    "import crunch\n",
    "crunch = crunch.load_notebook()"
   ]
  },
  {
   "cell_type": "code",
   "execution_count": 3,
   "id": "2b3dac9f",
   "metadata": {
    "metadata": {}
   },
   "outputs": [
    {
     "name": "stdout",
     "output_type": "stream",
     "text": [
      "download data\\X_train.pickle from https:crunchdao--competition--production.s3.eu-west-1.amazonaws.com/data-releases/48/X_train.pickle (1523944532 bytes)\n",
      "already exists: file length match\n",
      "download data\\y_train.pickle from https:crunchdao--competition--production.s3.eu-west-1.amazonaws.com/data-releases/48/y_train.pickle (7017735 bytes)\n",
      "already exists: file length match\n",
      "download data\\X_test.pickle from https:crunchdao--competition--production.s3.eu-west-1.amazonaws.com/data-releases/48/X_test_reduced.pickle (122341879 bytes)\n",
      "already exists: file length match\n",
      "download data\\y_test.pickle from https:crunchdao--competition--production.s3.eu-west-1.amazonaws.com/data-releases/48/y_test_reduced.pickle (562930 bytes)\n",
      "already exists: file length match\n",
      "download data\\example_prediction.parquet from https:crunchdao--competition--production.s3.eu-west-1.amazonaws.com/data-releases/48/example_prediction_reduced.parquet (668981 bytes)\n",
      "already exists: file length match\n"
     ]
    }
   ],
   "source": [
    "X_train, y_train, X_test = crunch.load_data()"
   ]
  },
  {
   "cell_type": "code",
   "execution_count": 4,
   "id": "eb2ff9654ec054b0",
   "metadata": {
    "metadata": {}
   },
   "outputs": [],
   "source": [
    "def ridge_regression_feature(dataset):\n",
    "    variables = dataset.columns.drop([\"X\", \"Y\"]).tolist()\n",
    "    param_grid = {'alpha': np.logspace(-6, 6, 13)}\n",
    "    \n",
    "    # model1: Fit X, v ~ Y\n",
    "    model1_features = [\"X\"] + variables\n",
    "    scaler1 = StandardScaler()\n",
    "    d1_scaled = scaler1.fit_transform(dataset[model1_features])\n",
    "    model1 = GridSearchCV(Ridge(random_state=42), param_grid, cv=5)\n",
    "    model1.fit(d1_scaled, dataset[\"Y\"])\n",
    "    model1_coefs = model1.best_estimator_.coef_.tolist()\n",
    "    model1_dict = {name: coef for name, coef in zip(model1_features, model1_coefs)}\n",
    "    \n",
    "    # model2: Fit v ~ X\n",
    "    model2_features = variables\n",
    "    scaler2 = StandardScaler()\n",
    "    d2_scaled = scaler2.fit_transform(dataset[model2_features])\n",
    "    model2 = GridSearchCV(Ridge(random_state=42), param_grid, cv=5)\n",
    "    model2.fit(d2_scaled, dataset[\"X\"])\n",
    "    model2_coefs = model2.best_estimator_.coef_.tolist()\n",
    "    model2_dict = {name: coef for name, coef in zip(model2_features, model2_coefs)}\n",
    "    \n",
    "    df = []\n",
    "    for i, variable in enumerate(variables):\n",
    "        df.append({\n",
    "            \"variable\": variable,\n",
    "            \"v~Y_ridge_coefficient\": model1_dict[variable],\n",
    "            \"v~X_ridge_coefficient\": model2_dict[variable]\n",
    "        })\n",
    "        \n",
    "    df = pd.DataFrame(df)\n",
    "    # df[\"dataset\"] = dataset.name\n",
    "    \n",
    "    df[\"X~Y_ridge_coefficient\"] = model1_dict[\"X\"]\n",
    "    \n",
    "    # Reorder columns:\n",
    "    # df = df[[\"dataset\"] + [colname for colname in df.columns if colname != \"dataset\"]]\n",
    "\n",
    "    # 获取最优的 alpha 值\n",
    "    best_alpha_model1 = model1.best_params_['alpha']\n",
    "    best_alpha_model2 = model2.best_params_['alpha']\n",
    "\n",
    "    return df, best_alpha_model1, best_alpha_model2"
   ]
  },
  {
   "cell_type": "code",
   "execution_count": 5,
   "id": "c37c0cea",
   "metadata": {
    "metadata": {}
   },
   "outputs": [
    {
     "name": "stderr",
     "output_type": "stream",
     "text": [
      "Processing datasets:   9%|▊         | 1999/23500 [06:01<1:04:48,  5.53it/s]\n"
     ]
    }
   ],
   "source": [
    "alpha_model1 = []\n",
    "alpha_model2 = []\n",
    "from tqdm import tqdm\n",
    "count = 0\n",
    "\n",
    "for key, df in tqdm(X_train.items(), total=len(X_train), desc=\"Processing datasets\"):\n",
    "    df, best_alpha_model1, best_alpha_model2 = ridge_regression_feature(df)\n",
    "    alpha_model1.append(best_alpha_model1)\n",
    "    alpha_model2.append(best_alpha_model2)\n",
    "    count+=1\n",
    "    if count == 2000:\n",
    "        break"
   ]
  },
  {
   "cell_type": "code",
   "execution_count": 6,
   "id": "885e47f4",
   "metadata": {
    "metadata": {}
   },
   "outputs": [
    {
     "data": {
      "image/png": "[encoded data removed]",
      "text/plain": [
       "<Figure size 1200x500 with 2 Axes>"
      ]
     },
     "metadata": {},
     "output_type": "display_data"
    }
   ],
   "source": [
    "def plot_alpha_distributions(alpha_model1, alpha_model2):\n",
    "    fig, (ax1, ax2) = plt.subplots(1, 2, figsize=(12, 5))\n",
    "    fig.suptitle('Distribution of Optimal Alpha Values', fontsize=16)\n",
    "\n",
    "    for ax, data, title in zip([ax1, ax2], [alpha_model1, alpha_model2], ['Model 1', 'Model 2']):\n",
    "        sns.kdeplot(data, ax=ax, log_scale=True, fill=True)\n",
    "        ax.set_title(f'Alpha Distribution for {title}')\n",
    "        ax.set_xlabel('Alpha Value')\n",
    "        ax.set_ylabel('Density')\n",
    "\n",
    "        # 添加统计信息\n",
    "        median = np.median(data)\n",
    "        mean = np.mean(data)\n",
    "        ax.axvline(median, color='r', linestyle='--', label=f'Median: {median:.2e}')\n",
    "        ax.axvline(mean, color='g', linestyle='-.', label=f'Mean: {mean:.2e}')\n",
    "        \n",
    "        # 添加文本注释\n",
    "        ax.text(0.05, 0.95, f'Median: {median:.2e}\\nMean: {mean:.2e}', \n",
    "                transform=ax.transAxes, verticalalignment='top',\n",
    "                bbox=dict(boxstyle='round', facecolor='white', alpha=0.7))\n",
    "\n",
    "    plt.tight_layout()\n",
    "    plt.show()\n",
    "\n",
    "# 调用函数\n",
    "plot_alpha_distributions(alpha_model1, alpha_model2)"
   ]
  },
  {
   "cell_type": "markdown",
   "id": "bed1b42f",
   "metadata": {},
   "source": [
    "聚类特征"
   ]
  },
  {
   "cell_type": "code",
   "execution_count": 1,
   "id": "1517fd29",
   "metadata": {
    "metadata": {}
   },
   "outputs": [],
   "source": [
    "import numpy as np\n",
    "from sklearn.preprocessing import StandardScaler\n",
    "from sklearn.cluster import DBSCAN\n",
    "from sklearn.metrics import silhouette_score\n",
    "import pandas as pd"
   ]
  },
  {
   "cell_type": "code",
   "execution_count": 2,
   "id": "1b2f809b",
   "metadata": {
    "metadata": {}
   },
   "outputs": [],
   "source": [
    "def enhanced_cluster_features(dataset):\n",
    "    variables = dataset.columns.drop([\"X\", \"Y\"]).tolist()\n",
    "    scaler = StandardScaler()\n",
    "    d_scaled = pd.DataFrame(scaler.fit_transform(dataset), columns=dataset.columns)\n",
    "\n",
    "    results = []\n",
    "    eps_values = [0.3, 0.5, 0.7]\n",
    "    \n",
    "    for variable in variables:\n",
    "        cluster_counts = []\n",
    "        noise_counts = []\n",
    "        avg_cluster_sizes = []\n",
    "        density_variations = []\n",
    "        feature_importances = []\n",
    "        silhouette_scores = []\n",
    "        \n",
    "        for eps in eps_values:\n",
    "            cluster_df = d_scaled[[variable, \"X\", \"Y\"]].copy()\n",
    "            dbscan = DBSCAN(eps=eps, min_samples=5)\n",
    "            cluster_df[\"cluster\"] = dbscan.fit_predict(cluster_df)\n",
    "            \n",
    "            # 基本统计\n",
    "            cluster_count = len(set(cluster_df[\"cluster\"])) - (1 if -1 in cluster_df[\"cluster\"] else 0)\n",
    "            noise_count = (cluster_df[\"cluster\"] == -1).sum()\n",
    "            cluster_counts.append(cluster_count)\n",
    "            noise_counts.append(noise_count)\n",
    "            \n",
    "            # 密度分析\n",
    "            cluster_sizes = cluster_df[cluster_df[\"cluster\"] != -1][\"cluster\"].value_counts()\n",
    "            avg_cluster_size = cluster_sizes.mean() if not cluster_sizes.empty else 0\n",
    "            density_variation = cluster_sizes.std() / avg_cluster_size if avg_cluster_size > 0 else 0\n",
    "            avg_cluster_sizes.append(avg_cluster_size)\n",
    "            density_variations.append(density_variation)\n",
    "            \n",
    "            # 特征重要性\n",
    "            if cluster_count > 1:  # 确保有多个簇\n",
    "                feature_importance = abs(np.corrcoef(cluster_df[variable], cluster_df[\"cluster\"]))[0, 1]\n",
    "            else:\n",
    "                feature_importance = 0\n",
    "            feature_importances.append(feature_importance)\n",
    "            \n",
    "            # 轮廓系数\n",
    "            non_noise_mask = cluster_df[\"cluster\"] != -1\n",
    "            if len(set(cluster_df.loc[non_noise_mask, \"cluster\"])) > 1:\n",
    "                sil_score = silhouette_score(cluster_df.loc[non_noise_mask, [variable, \"X\", \"Y\"]], \n",
    "                                             cluster_df.loc[non_noise_mask, \"cluster\"], \n",
    "                                             metric=\"euclidean\")\n",
    "            else:\n",
    "                sil_score = 0\n",
    "            silhouette_scores.append(sil_score)\n",
    "        \n",
    "        result = {\n",
    "            \"variable\": variable\n",
    "        }\n",
    "        for i, eps in enumerate(eps_values):\n",
    "            result.update({\n",
    "                f\"cluster_count_{eps}\": cluster_counts[i],\n",
    "                f\"noise_count_{eps}\": noise_counts[i],\n",
    "                f\"avg_cluster_size_{eps}\": avg_cluster_sizes[i],\n",
    "                f\"density_variation_{eps}\": density_variations[i],\n",
    "                f\"feature_importance_{eps}\": feature_importances[i],\n",
    "                f\"silhouette_score_{eps}\": silhouette_scores[i]\n",
    "            })\n",
    "        results.append(result)\n",
    "\n",
    "    df = pd.DataFrame(results)\n",
    "    # df[\"dataset\"] = dataset.name\n",
    "\n",
    "    # # Reorder columns:\n",
    "    # df = df[[\"dataset\"] + [colname for colname in df.columns if colname != \"dataset\"]]\n",
    "\n",
    "    return df"
   ]
  },
  {
   "cell_type": "code",
   "execution_count": 3,
   "id": "5775e354",
   "metadata": {
    "metadata": {}
   },
   "outputs": [
    {
     "name": "stdout",
     "output_type": "stream",
     "text": [
      "   0  X  1  2  Y\n",
      "0  2  1  5  1  3\n",
      "1  3  2  4  2  4\n",
      "2  4  3  3  3  2\n",
      "3  5  4  2  4  5\n",
      "4  6  5  1  5  6\n"
     ]
    }
   ],
   "source": [
    "# 创建示例数据集\n",
    "data = {\n",
    "    \"0\": [2, 3, 4, 5, 6],\n",
    "    \"X\": [1, 2, 3, 4, 5],\n",
    "    \"1\": [5, 4, 3, 2, 1],\n",
    "    \"2\": [1, 2, 3, 4, 5],\n",
    "    \"Y\": [3, 4, 2, 5, 6]\n",
    "}\n",
    "\n",
    "# 将数据集转换为 DataFrame\n",
    "dataset = pd.DataFrame(data)\n",
    "print(dataset)"
   ]
  },
  {
   "cell_type": "code",
   "execution_count": 4,
   "id": "fd857158",
   "metadata": {
    "metadata": {}
   },
   "outputs": [
    {
     "name": "stdout",
     "output_type": "stream",
     "text": [
      "  variable  cluster_count_0.3  noise_count_0.3  avg_cluster_size_0.3  \\\n",
      "0        0                  1                5                     0   \n",
      "1        1                  1                5                     0   \n",
      "2        2                  1                5                     0   \n",
      "\n",
      "   density_variation_0.3  feature_importance_0.3  silhouette_score_0.3  \\\n",
      "0                      0                       0                     0   \n",
      "1                      0                       0                     0   \n",
      "2                      0                       0                     0   \n",
      "\n",
      "   cluster_count_0.5  noise_count_0.5  avg_cluster_size_0.5  \\\n",
      "0                  1                5                     0   \n",
      "1                  1                5                     0   \n",
      "2                  1                5                     0   \n",
      "\n",
      "   density_variation_0.5  feature_importance_0.5  silhouette_score_0.5  \\\n",
      "0                      0                       0                     0   \n",
      "1                      0                       0                     0   \n",
      "2                      0                       0                     0   \n",
      "\n",
      "   cluster_count_0.7  noise_count_0.7  avg_cluster_size_0.7  \\\n",
      "0                  1                5                     0   \n",
      "1                  1                5                     0   \n",
      "2                  1                5                     0   \n",
      "\n",
      "   density_variation_0.7  feature_importance_0.7  silhouette_score_0.7  \n",
      "0                      0                       0                     0  \n",
      "1                      0                       0                     0  \n",
      "2                      0                       0                     0  \n"
     ]
    }
   ],
   "source": [
    "df = enhanced_cluster_features(dataset)\n",
    "print(df)"
   ]
  },
  {
   "cell_type": "markdown",
   "id": "d26ceb3f",
   "metadata": {},
   "source": [
    "PC"
   ]
  },
  {
   "cell_type": "code",
   "execution_count": 1,
   "id": "16f822f2",
   "metadata": {
    "ExecuteTime": {
     "end_time": "2024-09-21T03:00:11.479983Z",
     "start_time": "2024-09-21T03:00:07.974659Z"
    },
    "metadata": {}
   },
   "outputs": [],
   "source": [
    "import numpy as np\n",
    "import pandas as pd\n",
    "from pgmpy.estimators import PC\n",
    "from pgmpy.independencies import Independencies"
   ]
  },
  {
   "cell_type": "code",
   "execution_count": 2,
   "id": "5ad9753e",
   "metadata": {
    "ExecuteTime": {
     "end_time": "2024-09-21T03:00:25.053803Z",
     "start_time": "2024-09-21T03:00:11.481083Z"
    },
    "metadata": {}
   },
   "outputs": [
    {
     "name": "stdout",
     "output_type": "stream",
     "text": [
      "loaded inline runner with module: <module '__main__'>\n",
      "download data\\X_train.pickle from https:crunchdao--competition--production.s3.eu-west-1.amazonaws.com/data-releases/48/X_train.pickle (1523944532 bytes)\n",
      "already exists: file length match\n",
      "download data\\y_train.pickle from https:crunchdao--competition--production.s3.eu-west-1.amazonaws.com/data-releases/48/y_train.pickle (7017735 bytes)\n",
      "already exists: file length match\n",
      "download data\\X_test.pickle from https:crunchdao--competition--production.s3.eu-west-1.amazonaws.com/data-releases/48/X_test_reduced.pickle (122341879 bytes)\n",
      "already exists: file length match\n",
      "download data\\y_test.pickle from https:crunchdao--competition--production.s3.eu-west-1.amazonaws.com/data-releases/48/y_test_reduced.pickle (562930 bytes)\n",
      "already exists: file length match\n",
      "download data\\example_prediction.parquet from https:crunchdao--competition--production.s3.eu-west-1.amazonaws.com/data-releases/48/example_prediction_reduced.parquet (668981 bytes)\n",
      "already exists: file length match\n"
     ]
    }
   ],
   "source": [
    "import crunch\n",
    "crunch = crunch.load_notebook()\n",
    "X_train, y_train, X_test = crunch.load_data()"
   ]
  },
  {
   "cell_type": "code",
   "execution_count": 3,
   "id": "83e1b656",
   "metadata": {
    "ExecuteTime": {
     "end_time": "2024-09-21T03:00:25.083191Z",
     "start_time": "2024-09-21T03:00:25.054959Z"
    },
    "metadata": {}
   },
   "outputs": [
    {
     "name": "stdout",
     "output_type": "stream",
     "text": [
      "         0      1      2      Y      4      X\n",
      "0    0.023 -0.365  0.781  0.255  0.223 -0.367\n",
      "1    0.177 -0.057 -0.333 -0.165 -0.625  0.759\n",
      "2    0.393 -0.035 -0.879 -0.565 -0.065  0.243\n",
      "3   -0.501  0.211 -0.273 -0.377 -0.551  0.345\n",
      "4    0.119  0.849  0.727 -0.737  0.343 -0.165\n",
      "..     ...    ...    ...    ...    ...    ...\n",
      "995 -0.487 -0.805  0.001  0.767  0.357 -0.617\n",
      "996 -0.521 -0.913 -0.215 -0.031  0.931 -0.929\n",
      "997 -0.585  0.441 -0.189 -0.581 -0.357  0.449\n",
      "998 -0.857 -0.643  0.191  0.495  0.405 -0.707\n",
      "999  0.301  0.659  0.441 -0.489  0.035 -0.005\n",
      "\n",
      "[1000 rows x 6 columns]\n",
      "        0  1  2  Y  4  X\n",
      "parent                  \n",
      "0       0  0  0  0  0  0\n",
      "1       0  0  0  1  0  0\n",
      "2       1  0  0  1  0  0\n",
      "Y       1  0  0  0  0  0\n",
      "4       1  1  0  1  0  1\n",
      "X       1  0  0  1  0  0\n"
     ]
    }
   ],
   "source": [
    "# 数据预处理函数\n",
    "def preprocess_data(data):\n",
    "    # 确保数据是浮点型\n",
    "    data = data.astype(float)\n",
    "    # 替换无穷大值为NaN\n",
    "    data.replace([np.inf, -np.inf], np.nan, inplace=True)\n",
    "    # 删除包含NaN的行\n",
    "    data.dropna(inplace=True)\n",
    "    return data\n",
    "\n",
    "def discretize_dataframe(df, n_bins=5, strategy='uniform', labels=None):\n",
    "    \"\"\"\n",
    "    将数据框中的所有连续变量离散化为分箱后的离散变量。\n",
    "\n",
    "    参数:\n",
    "    df (pandas.DataFrame): 输入的数据框\n",
    "    n_bins (int 或 dict): 分箱数量。可以是整数（对所有列使用相同的分箱数），\n",
    "                          或者是字典（为每列指定不同的分箱数）\n",
    "    strategy (str 或 dict): 分箱策略，可选 'uniform'（等宽）, 'quantile'（等频）或 'kmeans'\n",
    "                            可以是字符串（对所有列使用相同的策略），\n",
    "                            或者是字典（为每列指定不同的策略）\n",
    "    labels (bool 或 dict): 是否用标签替换分箱的整数。True 使用标签，False 使用整数。\n",
    "                           可以是布尔值（对所有列使用相同的设置），\n",
    "                           或者是字典（为每列指定不同的设置）\n",
    "\n",
    "    返回:\n",
    "    pandas.DataFrame: 离散化后的数据框\n",
    "    \"\"\"\n",
    "    df_discretized = df.copy()\n",
    "    \n",
    "    for column in df.columns:\n",
    "        if df[column].dtype in ['int64', 'float64']:\n",
    "            # 获取当前列的参数\n",
    "            col_bins = n_bins[column] if isinstance(n_bins, dict) else n_bins\n",
    "            col_strategy = strategy[column] if isinstance(strategy, dict) else strategy\n",
    "            col_labels = labels[column] if isinstance(labels, dict) else labels\n",
    "            \n",
    "            # 处理特殊情况：如果列中的唯一值少于分箱数，就直接使用这些唯一值\n",
    "            unique_values = df[column].nunique()\n",
    "            if unique_values <= col_bins:\n",
    "                df_discretized[column] = pd.Categorical(df[column])\n",
    "            else:\n",
    "                # 执行离散化\n",
    "                if col_strategy == 'uniform':\n",
    "                    df_discretized[column] = pd.cut(df[column], bins=col_bins, labels=col_labels)\n",
    "                elif col_strategy == 'quantile':\n",
    "                    df_discretized[column] = pd.qcut(df[column], q=col_bins, labels=col_labels)\n",
    "                elif col_strategy == 'kmeans':\n",
    "                    from sklearn.preprocessing import KBinsDiscretizer\n",
    "                    kbd = KBinsDiscretizer(n_bins=col_bins, encode='ordinal', strategy='kmeans')\n",
    "                    df_discretized[column] = kbd.fit_transform(df[[column]])\n",
    "                    if col_labels:\n",
    "                        df_discretized[column] = pd.Categorical(df_discretized[column])\n",
    "                else:\n",
    "                    raise ValueError(f\"不支持的策略 '{col_strategy}' 用于列 '{column}'\")\n",
    "    \n",
    "    return df_discretized\n",
    "\n",
    "A = X_train['00016']\n",
    "A = preprocess_data(A)\n",
    "# A = discretize_dataframe(A, n_bins=5, strategy='uniform', labels=[1, 2, 3, 4, 5])\n",
    "B = y_train['00016']\n",
    "print(A)\n",
    "print(B)"
   ]
  },
  {
   "cell_type": "code",
   "execution_count": 5,
   "id": "0afaefdc",
   "metadata": {
    "ExecuteTime": {
     "end_time": "2024-09-21T03:00:46.642649Z",
     "start_time": "2024-09-21T03:00:29.975787Z"
    },
    "metadata": {}
   },
   "outputs": [
    {
     "data": {
      "application/vnd.jupyter.widget-view+json": {
       "model_id": "c8d52d49b0384aecae10c5d699cbb480",
       "version_major": 2,
       "version_minor": 0
      },
      "text/plain": [
       "  0%|          | 0/3 [00:00<?, ?it/s]"
      ]
     },
     "metadata": {},
     "output_type": "display_data"
    },
    {
     "name": "stderr",
     "output_type": "stream",
     "text": [
      "INFO:pgmpy:Reached maximum number of allowed conditional variables. Exiting\n",
      "WARNING:pgmpy:PDAG has no faithful extension (= no oriented DAG with the same v-structures as PDAG). Remaining undirected PDAG edges oriented arbitrarily.\n"
     ]
    },
    {
     "name": "stdout",
     "output_type": "stream",
     "text": [
      "Estimated edges:\n",
      "[('4', 'X'), ('X', '0'), ('0', '4'), ('2', 'Y')]\n",
      "\n",
      "Estimated adjacency matrix:\n",
      "[[0 0 0 0 1 0]\n",
      " [0 0 0 0 0 0]\n",
      " [0 0 0 1 0 0]\n",
      " [0 0 0 0 0 0]\n",
      " [0 0 0 0 0 1]\n",
      " [1 0 0 0 0 0]]\n",
      "\n",
      "True adjacency matrix:\n",
      "[[0 0 0 0 0 0]\n",
      " [0 0 0 1 0 0]\n",
      " [1 0 0 1 0 0]\n",
      " [1 0 0 0 0 0]\n",
      " [1 1 0 1 0 1]\n",
      " [1 0 0 1 0 0]]\n",
      "\n",
      "Structure learning accuracy: 0.78\n"
     ]
    }
   ],
   "source": [
    "# 使用estimate方法学习DAG结构\n",
    "est = PC(A)\n",
    "estimated_model = est.estimate(\n",
    "    variant='parallel',\n",
    "    ci_test='pearsonr',\n",
    "    max_cond_vars=3,  # 减少最大条件变量数\n",
    "    return_type='dag',\n",
    "    significance_level=0.05,\n",
    "    n_jobs=-1,  # 使用所有可用的CPU核心\n",
    ")\n",
    "\n",
    "# 打印估计的边\n",
    "print(\"Estimated edges:\")\n",
    "print(estimated_model.edges())\n",
    "\n",
    "# 将估计的模型转换为邻接矩阵格式\n",
    "adj_matrix = np.zeros((6, 6), dtype=int)\n",
    "for edge in estimated_model.edges():\n",
    "    i = A.columns.get_loc(edge[0])\n",
    "    j = A.columns.get_loc(edge[1])\n",
    "    adj_matrix[i, j] = 1\n",
    "\n",
    "print(\"\\nEstimated adjacency matrix:\")\n",
    "print(adj_matrix)\n",
    "\n",
    "# 比较估计的结构与真实结构\n",
    "true_adj_matrix = y_train['00016'].values\n",
    "\n",
    "print(\"\\nTrue adjacency matrix:\")\n",
    "print(true_adj_matrix)\n",
    "\n",
    "# 计算结构学习的准确度\n",
    "accuracy = np.mean(adj_matrix == true_adj_matrix)\n",
    "print(f\"\\nStructure learning accuracy: {accuracy:.2f}\")"
   ]
  },
  {
   "cell_type": "code",
   "execution_count": 7,
   "id": "2785a63e",
   "metadata": {
    "metadata": {}
   },
   "outputs": [
    {
     "name": "stderr",
     "output_type": "stream",
     "text": [
      "Analyzing variables:   0%|          | 0/4 [00:00<?, ?it/s]"
     ]
    },
    {
     "data": {
      "application/vnd.jupyter.widget-view+json": {
       "model_id": "0cbbb09f4c614bc3b612b27dfef47c35",
       "version_major": 2,
       "version_minor": 0
      },
      "text/plain": [
       "  0%|          | 0/5 [00:00<?, ?it/s]"
      ]
     },
     "metadata": {},
     "output_type": "display_data"
    },
    {
     "name": "stderr",
     "output_type": "stream",
     "text": [
      "Analyzing variables:  25%|██▌       | 1/4 [00:00<00:00,  7.41it/s]"
     ]
    },
    {
     "name": "stdout",
     "output_type": "stream",
     "text": [
      "\n",
      "Variable: 0\n",
      "Estimated relationship: Independent\n",
      "True relationship: Independent\n",
      "\n",
      "Estimated Adjacency Matrix:\n",
      "   0  X  Y\n",
      "0  0  1  1\n",
      "X  0  0  1\n",
      "Y  0  0  0\n",
      "\n",
      "True Adjacency Matrix:\n",
      "   0  X  Y\n",
      "0  0  0  0\n",
      "X  0  0  1\n",
      "Y  0  0  0\n"
     ]
    },
    {
     "data": {
      "application/vnd.jupyter.widget-view+json": {
       "model_id": "f7b6082825984ce6a251279575b159c2",
       "version_major": 2,
       "version_minor": 0
      },
      "text/plain": [
       "  0%|          | 0/5 [00:00<?, ?it/s]"
      ]
     },
     "metadata": {},
     "output_type": "display_data"
    },
    {
     "name": "stderr",
     "output_type": "stream",
     "text": [
      "Analyzing variables:  50%|█████     | 2/4 [00:00<00:00,  8.12it/s]"
     ]
    },
    {
     "name": "stdout",
     "output_type": "stream",
     "text": [
      "\n",
      "Variable: 1\n",
      "Estimated relationship: Independent\n",
      "True relationship: Independent\n",
      "\n",
      "Estimated Adjacency Matrix:\n",
      "   1  X  Y\n",
      "1  0  0  1\n",
      "X  1  0  1\n",
      "Y  0  0  0\n",
      "\n",
      "True Adjacency Matrix:\n",
      "   1  X  Y\n",
      "1  0  0  1\n",
      "X  0  0  1\n",
      "Y  0  0  0\n"
     ]
    },
    {
     "data": {
      "application/vnd.jupyter.widget-view+json": {
       "model_id": "c16111adf4514e898daca805bff3a3b2",
       "version_major": 2,
       "version_minor": 0
      },
      "text/plain": [
       "  0%|          | 0/5 [00:00<?, ?it/s]"
      ]
     },
     "metadata": {},
     "output_type": "display_data"
    },
    {
     "name": "stderr",
     "output_type": "stream",
     "text": [
      "Analyzing variables:  75%|███████▌  | 3/4 [00:00<00:00,  8.36it/s]"
     ]
    },
    {
     "name": "stdout",
     "output_type": "stream",
     "text": [
      "\n",
      "Variable: 2\n",
      "Estimated relationship: Independent\n",
      "True relationship: Independent\n",
      "\n",
      "Estimated Adjacency Matrix:\n",
      "   2  X  Y\n",
      "2  0  0  1\n",
      "X  0  0  1\n",
      "Y  0  0  0\n",
      "\n",
      "True Adjacency Matrix:\n",
      "   2  X  Y\n",
      "2  0  0  1\n",
      "X  0  0  1\n",
      "Y  0  0  0\n"
     ]
    },
    {
     "data": {
      "application/vnd.jupyter.widget-view+json": {
       "model_id": "ddd26519c59549efa3f9d7436f945e3f",
       "version_major": 2,
       "version_minor": 0
      },
      "text/plain": [
       "  0%|          | 0/5 [00:00<?, ?it/s]"
      ]
     },
     "metadata": {},
     "output_type": "display_data"
    },
    {
     "name": "stdout",
     "output_type": "stream",
     "text": [
      "\n",
      "Variable: 4"
     ]
    },
    {
     "name": "stderr",
     "output_type": "stream",
     "text": [
      "Analyzing variables: 100%|██████████| 4/4 [00:00<00:00,  8.71it/s]"
     ]
    },
    {
     "name": "stdout",
     "output_type": "stream",
     "text": [
      "\n",
      "Estimated relationship: Invalid (X->Y not found)\n",
      "True relationship: Independent\n",
      "\n",
      "Estimated Adjacency Matrix:\n",
      "   4  X  Y\n",
      "4  0  0  1\n",
      "X  1  0  0\n",
      "Y  0  0  0\n",
      "\n",
      "True Adjacency Matrix:\n",
      "   4  X  Y\n",
      "4  0  1  1\n",
      "X  0  0  1\n",
      "Y  0  0  0\n",
      "\n",
      "Overall accuracy: 0.75\n",
      "\n",
      "Results summary:\n",
      "Independent: 3\n",
      "Invalid (X->Y not found): 1\n"
     ]
    },
    {
     "name": "stderr",
     "output_type": "stream",
     "text": [
      "\n"
     ]
    }
   ],
   "source": [
    "import pandas as pd\n",
    "import numpy as np\n",
    "from pgmpy.estimators import PC\n",
    "from tqdm import tqdm\n",
    "\n",
    "def classify_relationship(edges):\n",
    "    edge_set = set(edges)\n",
    "    if ('X', 'Y') not in edge_set:\n",
    "        return \"Invalid (X->Y not found)\"\n",
    "    if (('v', 'X') in edge_set or ('X', 'v') in edge_set) and (('v', 'Y') in edge_set or ('Y', 'v') in edge_set):\n",
    "        return \"Mediator or Confounder\"\n",
    "    if ('X', 'v') in edge_set and ('Y', 'v') in edge_set:\n",
    "        return \"Collider\"\n",
    "    if ('v', 'X') in edge_set:\n",
    "        return \"Cause of X\"\n",
    "    if ('v', 'Y') in edge_set:\n",
    "        return \"Cause of Y\"\n",
    "    if ('X', 'v') in edge_set:\n",
    "        return \"Consequence of X\"\n",
    "    if ('Y', 'v') in edge_set:\n",
    "        return \"Consequence of Y\"\n",
    "    return \"Independent\"\n",
    "\n",
    "def print_adjacency_matrix(edges, variables):\n",
    "    adj_matrix = np.zeros((len(variables), len(variables)), dtype=int)\n",
    "    for i, v1 in enumerate(variables):\n",
    "        for j, v2 in enumerate(variables):\n",
    "            if (v1, v2) in edges:\n",
    "                adj_matrix[i, j] = 1\n",
    "    print(pd.DataFrame(adj_matrix, index=variables, columns=variables))\n",
    "\n",
    "variables = A.columns.drop([\"X\", \"Y\"]).tolist()\n",
    "results = {}\n",
    "true_relationships = {}\n",
    "\n",
    "for variable in tqdm(variables, desc=\"Analyzing variables\"):\n",
    "    # 使用estimate方法学习DAG结构\n",
    "    data = A[[variable, \"X\", \"Y\"]]\n",
    "    est = PC(data)\n",
    "    estimated_model = est.estimate(\n",
    "        variant='parallel',\n",
    "        ci_test='pearsonr',\n",
    "        return_type='dag',\n",
    "        significance_level=0.05,\n",
    "        n_jobs=-1,\n",
    "    )\n",
    "\n",
    "    # 获取估计的边\n",
    "    estimated_edges = estimated_model.edges()\n",
    "    \n",
    "    # 分类关系\n",
    "    relationship = classify_relationship(estimated_edges)\n",
    "    results[variable] = relationship\n",
    "\n",
    "    # 获取真实关系\n",
    "    true_adj_matrix = y_train['00016'].values\n",
    "    true_edges = []\n",
    "    if true_adj_matrix[A.columns.get_loc(variable), A.columns.get_loc(\"X\")] == 1:\n",
    "        true_edges.append((variable, \"X\"))\n",
    "    if true_adj_matrix[A.columns.get_loc(variable), A.columns.get_loc(\"Y\")] == 1:\n",
    "        true_edges.append((variable, \"Y\"))\n",
    "    if true_adj_matrix[A.columns.get_loc(\"X\"), A.columns.get_loc(\"Y\")] == 1:\n",
    "        true_edges.append((\"X\", \"Y\"))\n",
    "    true_relationship = classify_relationship(true_edges)\n",
    "    true_relationships[variable] = true_relationship\n",
    "\n",
    "    # 打印结果和邻接矩阵\n",
    "    print(f\"\\nVariable: {variable}\")\n",
    "    print(f\"Estimated relationship: {relationship}\")\n",
    "    print(f\"True relationship: {true_relationship}\")\n",
    "    \n",
    "    print(\"\\nEstimated Adjacency Matrix:\")\n",
    "    print_adjacency_matrix(estimated_edges, [variable, \"X\", \"Y\"])\n",
    "    \n",
    "    print(\"\\nTrue Adjacency Matrix:\")\n",
    "    print_adjacency_matrix(true_edges, [variable, \"X\", \"Y\"])\n",
    "\n",
    "# 计算准确率\n",
    "accuracy = sum(results[v] == true_relationships[v] for v in variables) / len(variables)\n",
    "print(f\"\\nOverall accuracy: {accuracy:.2f}\")\n",
    "\n",
    "# 打印结果汇总\n",
    "print(\"\\nResults summary:\")\n",
    "for relationship in set(results.values()):\n",
    "    count = list(results.values()).count(relationship)\n",
    "    print(f\"{relationship}: {count}\")"
   ]
  },
  {
   "cell_type": "code",
   "execution_count": null,
   "id": "c8021002",
   "metadata": {},
   "outputs": [],
   "source": [
    "from pgmpy.estimators import PC, HillClimbSearch\n",
    "from pgmpy.models import BayesianNetwork\n",
    "import pandas as pd\n",
    "import numpy as np\n",
    "\n",
    "# 假设数据已经准备好，存储在DataFrame中\n",
    "data = pd.DataFrame(np.random.rand(1000, 3), columns=['v', 'X', 'Y'])\n",
    "\n",
    "# 使用PC算法\n",
    "pc = PC(data)\n",
    "pc_graph = pc.estimate(variant='stable')\n",
    "print(\"PC Algorithm Result:\")\n",
    "print(pc_graph.edges())\n",
    "\n",
    "# 使用Hill-Climb搜索\n",
    "hc = HillClimbSearch(data)\n",
    "hc_model = hc.estimate()\n",
    "print(\"\\nHill-Climb Search Result:\")\n",
    "print(hc_model.edges())\n",
    "\n",
    "# 将结果映射到预定义的关系类型\n",
    "def map_to_relationship(edges):\n",
    "    if ('X', 'Y') not in edges:\n",
    "        return \"Invalid (X->Y not found)\"\n",
    "    if ('v', 'X') in edges and ('v', 'Y') in edges:\n",
    "        return \"Confounder\"\n",
    "    if ('X', 'v') in edges and ('Y', 'v') in edges:\n",
    "        return \"Collider\"\n",
    "    # ... 添加其他关系类型的判断\n",
    "    return \"Unknown\"\n",
    "\n",
    "print(\"\\nInferred Relationship (PC):\", map_to_relationship(pc_graph.edges()))\n",
    "print(\"Inferred Relationship (HC):\", map_to_relationship(hc_model.edges()))"
   ]
  }
 ],
 "metadata": {
  "kernelspec": {
   "display_name": "Python 3",
   "language": "python",
   "name": "python3"
  },
  "language_info": {
   "codemirror_mode": {
    "name": "ipython",
    "version": 3
   },
   "file_extension": ".py",
   "mimetype": "text/x-python",
   "name": "python",
   "nbconvert_exporter": "python",
   "pygments_lexer": "ipython3",
   "version": "3.12.2"
  }
 },
 "nbformat": 4,
 "nbformat_minor": 5
}
