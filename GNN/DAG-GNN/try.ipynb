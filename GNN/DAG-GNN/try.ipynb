{
 "cells": [
  {
   "cell_type": "markdown",
   "metadata": {},
   "source": [
    "## 获取矩阵索引"
   ]
  },
  {
   "cell_type": "code",
   "execution_count": 1,
   "metadata": {},
   "outputs": [],
   "source": [
    "import torch\n",
    "num_nodes = 4\n",
    "ones = torch.ones(num_nodes, num_nodes)\n",
    "eye = torch.eye(num_nodes, num_nodes)"
   ]
  },
  {
   "cell_type": "code",
   "execution_count": 6,
   "metadata": {},
   "outputs": [
    {
     "data": {
      "text/plain": [
       "tensor([[0., 1., 1., 1.],\n",
       "        [0., 0., 1., 1.],\n",
       "        [0., 0., 0., 1.],\n",
       "        [0., 0., 0., 0.]])"
      ]
     },
     "execution_count": 6,
     "metadata": {},
     "output_type": "execute_result"
    }
   ],
   "source": [
    "ones.triu() - eye"
   ]
  },
  {
   "cell_type": "code",
   "execution_count": 11,
   "metadata": {},
   "outputs": [
    {
     "data": {
      "text/plain": [
       "tensor([[0, 0, 0, 1, 1, 2],\n",
       "        [1, 2, 3, 2, 3, 3]])"
      ]
     },
     "execution_count": 11,
     "metadata": {},
     "output_type": "execute_result"
    }
   ],
   "source": [
    "(ones.triu() - eye).nonzero().t()"
   ]
  },
  {
   "cell_type": "code",
   "execution_count": 10,
   "metadata": {},
   "outputs": [
    {
     "data": {
      "text/plain": [
       "tensor([ 1,  2,  3,  6,  7, 11])"
      ]
     },
     "execution_count": 10,
     "metadata": {},
     "output_type": "execute_result"
    }
   ],
   "source": [
    "(ones.triu() - eye).nonzero().t()[0] * num_nodes + (ones.triu() - eye).nonzero().t()[1]"
   ]
  },
  {
   "cell_type": "code",
   "execution_count": 12,
   "metadata": {},
   "outputs": [],
   "source": [
    "def get_triu_indices(num_nodes):\n",
    "    \"\"\"Linear triu (upper triangular) indices.\"\"\"\n",
    "    ones = torch.ones(num_nodes, num_nodes)\n",
    "    eye = torch.eye(num_nodes, num_nodes)\n",
    "    triu_indices = (ones.triu() - eye).nonzero().t()\n",
    "    triu_indices = triu_indices[0] * num_nodes + triu_indices[1]\n",
    "    return triu_indices\n",
    "\n",
    "\n",
    "def get_tril_indices(num_nodes):\n",
    "    \"\"\"Linear tril (lower triangular) indices.\"\"\"\n",
    "    ones = torch.ones(num_nodes, num_nodes)\n",
    "    eye = torch.eye(num_nodes, num_nodes)\n",
    "    tril_indices = (ones.tril() - eye).nonzero().t()\n",
    "    tril_indices = tril_indices[0] * num_nodes + tril_indices[1]\n",
    "    return tril_indices\n",
    "\n",
    "\n",
    "def get_offdiag_indices(num_nodes):\n",
    "    \"\"\"Linear off-diagonal indices.\"\"\"\n",
    "    ones = torch.ones(num_nodes, num_nodes)\n",
    "    eye = torch.eye(num_nodes, num_nodes)\n",
    "    offdiag_indices = (ones - eye).nonzero().t()\n",
    "    offdiag_indices = offdiag_indices[0] * num_nodes + offdiag_indices[1]\n",
    "    return offdiag_indices"
   ]
  },
  {
   "cell_type": "code",
   "execution_count": 13,
   "metadata": {},
   "outputs": [
    {
     "name": "stdout",
     "output_type": "stream",
     "text": [
      "tensor([ 1,  2,  3,  4,  7,  8,  9, 13, 14, 19])\n",
      "tensor([ 5, 10, 11, 15, 16, 17, 20, 21, 22, 23])\n",
      "tensor([ 1,  2,  3,  4,  5,  7,  8,  9, 10, 11, 13, 14, 15, 16, 17, 19, 20, 21,\n",
      "        22, 23])\n"
     ]
    }
   ],
   "source": [
    "triu_indices = get_triu_indices(5)\n",
    "tril_indices = get_tril_indices(5)\n",
    "offdiag_indices = get_offdiag_indices(5)\n",
    "print(triu_indices)\n",
    "print(tril_indices)\n",
    "print(offdiag_indices)"
   ]
  },
  {
   "cell_type": "code",
   "execution_count": 20,
   "metadata": {},
   "outputs": [
    {
     "name": "stdout",
     "output_type": "stream",
     "text": [
      "tensor([1., 1., 1., 1., 0., 1., 1., 1., 0., 0., 1., 1., 0., 0., 0., 1., 0., 0.,\n",
      "        0., 0.])\n"
     ]
    }
   ],
   "source": [
    "num_nodes = 5\n",
    "triu_idx = torch.zeros(num_nodes * num_nodes)\n",
    "triu_idx[get_triu_indices(num_nodes)] = 1.\n",
    "triu_idx = triu_idx[get_offdiag_indices(num_nodes)]\n",
    "print(triu_idx)"
   ]
  },
  {
   "cell_type": "code",
   "execution_count": 21,
   "metadata": {},
   "outputs": [
    {
     "data": {
      "text/plain": [
       "tensor([[ 0],\n",
       "        [ 1],\n",
       "        [ 2],\n",
       "        [ 3],\n",
       "        [ 5],\n",
       "        [ 6],\n",
       "        [ 7],\n",
       "        [10],\n",
       "        [11],\n",
       "        [15]])"
      ]
     },
     "execution_count": 21,
     "metadata": {},
     "output_type": "execute_result"
    }
   ],
   "source": [
    "triu_idx.nonzero()"
   ]
  }
 ],
 "metadata": {
  "kernelspec": {
   "display_name": "adia_py311",
   "language": "python",
   "name": "python3"
  },
  "language_info": {
   "codemirror_mode": {
    "name": "ipython",
    "version": 3
   },
   "file_extension": ".py",
   "mimetype": "text/x-python",
   "name": "python",
   "nbconvert_exporter": "python",
   "pygments_lexer": "ipython3",
   "version": "3.11.9"
  }
 },
 "nbformat": 4,
 "nbformat_minor": 2
}
