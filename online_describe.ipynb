{
 "cells": [
  {
   "cell_type": "code",
   "execution_count": 1,
   "metadata": {},
   "outputs": [
    {
     "name": "stdout",
     "output_type": "stream",
     "text": [
      "loaded inline runner with module: <module '__main__'>\n"
     ]
    }
   ],
   "source": [
    "import pandas as pd\n",
    "import numpy as np\n",
    "from tqdm import tqdm  # 导入 tqdm\n",
    "import json\n",
    "import typing\n",
    "\n",
    "import crunch\n",
    "crunch = crunch.load_notebook()"
   ]
  },
  {
   "cell_type": "code",
   "execution_count": 7,
   "metadata": {},
   "outputs": [],
   "source": [
    "def train(\n",
    "    X_train: typing.Dict[str, pd.DataFrame],\n",
    "    y_train: typing.Dict[str, pd.DataFrame],\n",
    "    # number_of_features: int,\n",
    "    model_directory_path: str,\n",
    "    # id_column_name: str,\n",
    "    # prediction_column_name: str,\n",
    "    # has_gpu: bool,\n",
    ") -> None:\n",
    "    print(\"Training started\")\n",
    "    local_datasets_describe_path = \"./resources/local_datasets_describe.json\"\n",
    "    local_datasets_describe = json.load(open(local_datasets_describe_path, 'r', encoding='utf-8'))\n",
    "\n",
    "    # Get all dataset keys\n",
    "    dataset_keys = list(X_train.keys())\n",
    "\n",
    "    # Initialize statistics\n",
    "    missing_keys_count = 0\n",
    "    column_mismatch_count = 0\n",
    "    DAG_mismatch_count = 0\n",
    "\n",
    "    for key in tqdm(dataset_keys, desc=\"Checking\", unit=\"dataset\"):\n",
    "        dataset = X_train[key]\n",
    "        columns = dataset.columns.tolist()\n",
    "        true_DAG = y_train[key].values.tolist()\n",
    "\n",
    "        # Check if the local dataset contains the same key\n",
    "        if key not in local_datasets_describe:\n",
    "            print(f\"Key not found in local dataset: {key}\")\n",
    "            missing_keys_count += 1\n",
    "        else:\n",
    "            local_columns = local_datasets_describe[key].get('columns', [])\n",
    "            local_DAG = local_datasets_describe[key].get('true_DAG', [])\n",
    "\n",
    "            # Compare if column names are consistent\n",
    "            if columns != local_columns:\n",
    "                print(f\"Dataset {key} has inconsistent columns: Cloud columns: {columns}, Local columns: {local_columns}\")\n",
    "                column_mismatch_count += 1\n",
    "\n",
    "            # Compare if DAGs are consistent\n",
    "            if true_DAG != local_DAG:\n",
    "                print(f\"Dataset {key} has inconsistent DAGs: Cloud DAG: {true_DAG}, Local DAG: {local_DAG}\")\n",
    "                DAG_mismatch_count += 1\n",
    "\n",
    "    # Print statistics\n",
    "    print(f\"\\nStatistics:\")\n",
    "    print(f\"Number of keys not found in the local dataset: {missing_keys_count}\")\n",
    "    print(f\"Number of keys with different column names between local and cloud datasets: {column_mismatch_count}\")\n",
    "    print(f\"Number of keys with different DAGs between local and cloud datasets: {DAG_mismatch_count}\")\n",
    "\n",
    "def infer(\n",
    "    X_test: typing.Dict[str, pd.DataFrame],\n",
    "    # number_of_features: int,\n",
    "    model_directory_path: str,\n",
    "    id_column_name: str,\n",
    "    prediction_column_name: str,\n",
    "    # has_gpu: bool,\n",
    "    # has_trained: bool,\n",
    ") -> pd.DataFrame:\n",
    "    print(\"Inference started\")"
   ]
  },
  {
   "cell_type": "code",
   "execution_count": 8,
   "metadata": {},
   "outputs": [
    {
     "name": "stdout",
     "output_type": "stream",
     "text": [
      "ignoring cell #5: expected an indented block after function definition on line 44 (<unknown>, line 49)\n"
     ]
    },
    {
     "name": "stderr",
     "output_type": "stream",
     "text": [
      "\u001b[32m11:01:28\u001b[0m \u001b[33mno forbidden library found\u001b[0m\n",
      "\u001b[32m11:01:28\u001b[0m \u001b[33m\u001b[0m\n",
      "\u001b[32m11:01:28\u001b[0m started\n",
      "\u001b[32m11:01:28\u001b[0m running local test\n",
      "\u001b[32m11:01:28\u001b[0m \u001b[33minternet access isn't restricted, no check will be done\u001b[0m\n",
      "\u001b[32m11:01:28\u001b[0m \n",
      "\u001b[32m11:01:39\u001b[0m starting dag process...\n"
     ]
    },
    {
     "name": "stdout",
     "output_type": "stream",
     "text": [
      "download data\\X_train.pickle from https:crunchdao--competition--production.s3.eu-west-1.amazonaws.com/data-releases/48/X_train.pickle (1523944532 bytes)\n",
      "already exists: file length match\n",
      "download data\\y_train.pickle from https:crunchdao--competition--production.s3.eu-west-1.amazonaws.com/data-releases/48/y_train.pickle (7017735 bytes)\n",
      "already exists: file length match\n",
      "download data\\X_test.pickle from https:crunchdao--competition--production.s3.eu-west-1.amazonaws.com/data-releases/48/X_test_reduced.pickle (122341879 bytes)\n",
      "already exists: file length match\n",
      "download data\\y_test.pickle from https:crunchdao--competition--production.s3.eu-west-1.amazonaws.com/data-releases/48/y_test_reduced.pickle (562930 bytes)\n",
      "already exists: file length match\n",
      "download data\\example_prediction.parquet from https:crunchdao--competition--production.s3.eu-west-1.amazonaws.com/data-releases/48/example_prediction_reduced.parquet (668981 bytes)\n",
      "already exists: file length match\n"
     ]
    },
    {
     "name": "stderr",
     "output_type": "stream",
     "text": [
      "\u001b[32m11:01:54\u001b[0m \u001b[33mcall: train\u001b[0m\n"
     ]
    },
    {
     "name": "stdout",
     "output_type": "stream",
     "text": [
      "train\n"
     ]
    },
    {
     "name": "stderr",
     "output_type": "stream",
     "text": [
      "检查: 100%|██████████| 23500/23500 [00:00<00:00, 87019.14dataset/s]\n",
      "\u001b[32m11:01:55\u001b[0m \u001b[33mcall: infer\u001b[0m\n",
      "\u001b[32m11:01:55\u001b[0m \u001b[31m`prediction` must be a dataframe\u001b[0m\n",
      "\u001b[32m11:01:55\u001b[0m \u001b[33mduration - time=00:00:27\u001b[0m\n",
      "\u001b[32m11:01:55\u001b[0m \u001b[33mmemory - before=\"3.44 GB\" after=\"5.16 GB\" consumed=\"1.72 GB\"\u001b[0m\n",
      "\u001b[32m11:01:55\u001b[0m \u001b[31mAborted!\u001b[0m\n"
     ]
    },
    {
     "name": "stdout",
     "output_type": "stream",
     "text": [
      "\n",
      "统计结果:\n",
      "本地数据集中不存在的 key 个数: 0\n",
      "本地数据集与线上数据集列名不同的 key 个数: 0\n",
      "本地数据集与线上数据集 DAG 不同的 key 个数: 0\n",
      "test\n",
      "Download this notebook and submit it to the platform: https://hub.crunchdao.com/competitions/causality-discovery/submit/via/notebook\n"
     ]
    }
   ],
   "source": [
    "crunch.test(\n",
    "    no_determinism_check=True\n",
    ")\n",
    "\n",
    "print(\"Download this notebook and submit it to the platform: https://hub.crunchdao.com/competitions/causality-discovery/submit/via/notebook\")"
   ]
  }
 ],
 "metadata": {
  "kernelspec": {
   "display_name": "adia_py311",
   "language": "python",
   "name": "python3"
  },
  "language_info": {
   "codemirror_mode": {
    "name": "ipython",
    "version": 3
   },
   "file_extension": ".py",
   "mimetype": "text/x-python",
   "name": "python",
   "nbconvert_exporter": "python",
   "pygments_lexer": "ipython3",
   "version": "3.11.9"
  }
 },
 "nbformat": 4,
 "nbformat_minor": 2
}
